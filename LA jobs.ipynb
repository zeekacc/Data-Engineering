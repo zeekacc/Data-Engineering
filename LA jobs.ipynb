{
 "cells": [
  {
   "cell_type": "markdown",
   "id": "26ddfc17-630b-473c-ab04-74ef04c35af9",
   "metadata": {},
   "source": [
    "### <span style=\"color:brown\">Q1:\n",
    "\n",
    "A non-experienced job seeker wants to know what is the best job for him?"
   ]
  },
  {
   "cell_type": "code",
   "execution_count": 40,
   "id": "a4691f27-17c1-477d-af3c-8883dab0fd46",
   "metadata": {},
   "outputs": [
    {
     "data": {
      "text/plain": [
       "array(['-', '0.25', '0.5', '0.67', '1.0', '1.5', '12.0', '2.0', '2.5',\n",
       "       '3.0', '4.0', '5.0', '6.0', '7.0', '8.0', '9.0'], dtype=object)"
      ]
     },
     "execution_count": 40,
     "metadata": {},
     "output_type": "execute_result"
    }
   ],
   "source": [
    "import pandas as pd\n",
    "df = pd.read_csv('la_jobs.csv')\n",
    "non_exp_job = df[[\"JOB_CLASS_TITLE\",\"EXPERIENCE_LENGTH\"]]\n",
    "fin_sol = non_exp_job.sort_values(by = [\"EXPERIENCE_LENGTH\",\"JOB_CLASS_TITLE\"], ascending = True)\n",
    "fin_sol.reset_index()\n",
    "fin_sol.EXPERIENCE_LENGTH.unique()\n",
    "\n",
    "#if i == ('-') in df[[\"EXPERIENCE_LENGTH\"]] :\n",
    "#  print(df[[\"JOB_CLASS_TITLE\"]])\n",
    "#df.iloc[0,7]\n",
    "#nan_values = df.isna()\n",
    "#nan_values\n",
    "\n",
    "\n",
    "\n",
    "  "
   ]
  },
  {
   "cell_type": "code",
   "execution_count": null,
   "id": "f83465d3-c35c-4c1f-a01e-cb4d46a26797",
   "metadata": {},
   "outputs": [],
   "source": []
  },
  {
   "cell_type": "markdown",
   "id": "ba329822-3c85-422e-af11-7966db591144",
   "metadata": {},
   "source": [
    "### <span style=\"color:brown\">Q2:\n",
    "A concerned parents contacts you to tell them if there is a spicific school type that would guaranteed for their child a good future if you can tell, and which is it ?"
   ]
  },
  {
   "cell_type": "code",
   "execution_count": null,
   "id": "e1742373-1649-48f0-82b6-96c2450d4e84",
   "metadata": {},
   "outputs": [],
   "source": []
  },
  {
   "cell_type": "markdown",
   "id": "ebcaa8f5-5cb0-4025-bd9d-48302ed01b1f",
   "metadata": {},
   "source": [
    "### <span style=\"color:brown\">Q3:\n",
    "\n",
    "What the best time in the year to be ready for a job applying in any experience level?"
   ]
  },
  {
   "cell_type": "code",
   "execution_count": null,
   "id": "1a3131f1-ea36-4f04-ad8b-62780d2c0f49",
   "metadata": {},
   "outputs": [],
   "source": []
  },
  {
   "cell_type": "markdown",
   "id": "78b2413d-b5a7-48d8-b8b0-d128c5bbba2e",
   "metadata": {},
   "source": [
    "### <span style=\"color:brown\">Q4:\n",
    "\n",
    "Is experience more important than educational level?"
   ]
  },
  {
   "cell_type": "code",
   "execution_count": null,
   "id": "0bf9777f-8f48-40d5-9f95-df2e2e5979ae",
   "metadata": {},
   "outputs": [],
   "source": []
  },
  {
   "cell_type": "markdown",
   "id": "b892d547-b817-4812-8292-b9b4a5c36316",
   "metadata": {},
   "source": [
    "### <span style=\"color:brown\">Q5:\n",
    "\n",
    "Which fresh grade job that will guarantee many job offers in the future for him?"
   ]
  },
  {
   "cell_type": "code",
   "execution_count": null,
   "id": "f2965784-cc21-4519-975e-71da43959216",
   "metadata": {},
   "outputs": [],
   "source": []
  },
  {
   "cell_type": "markdown",
   "id": "771931f0-2ae1-43d3-b5c6-4c1f3c2651eb",
   "metadata": {},
   "source": [
    "### <span style=\"color:brown\">Q6:\n",
    "\n",
    "\"The City of Los Angeles does not discriminate on the basis of race, religion, national origin, sex, age, marital status, sexual orientation, gender identity, gender expression, disability, creed, color, ancestry, medical condition (cancer), or Acquired Immune Deficiency Syndrome.\n",
    "\n",
    "AN EQUAL EMPLOYMENT OPPORTUNITY EMPLOYER \n",
    "\"\n",
    "\n",
    "The above statment is qouted from one of the job descriptions.\n",
    "\n",
    "Based on the jobs requirments column above do you think that LA governate may bais a little for men over women or the applicant marital status for example may effect his chance to gain the job?"
   ]
  },
  {
   "cell_type": "code",
   "execution_count": null,
   "id": "d4e623c7-96e2-41d5-99d1-9c8ae3f63c86",
   "metadata": {},
   "outputs": [],
   "source": []
  },
  {
   "cell_type": "code",
   "execution_count": null,
   "id": "03ecabf8-23f2-4fa4-9df9-6da31b6b4b35",
   "metadata": {},
   "outputs": [],
   "source": []
  },
  {
   "cell_type": "code",
   "execution_count": null,
   "id": "2c600590-01af-49b0-b660-52ea42b59ef3",
   "metadata": {},
   "outputs": [],
   "source": []
  },
  {
   "cell_type": "code",
   "execution_count": null,
   "id": "9f3c96fc-816f-4f20-b066-5e759a4df65f",
   "metadata": {},
   "outputs": [],
   "source": []
  },
  {
   "cell_type": "code",
   "execution_count": null,
   "id": "8edddf87-82e6-42b6-97b5-6efb88b2524d",
   "metadata": {},
   "outputs": [],
   "source": []
  },
  {
   "cell_type": "code",
   "execution_count": null,
   "id": "26159436-a262-4d42-930d-75332694c144",
   "metadata": {},
   "outputs": [],
   "source": []
  },
  {
   "cell_type": "code",
   "execution_count": null,
   "id": "62bdec20-c4e5-46ec-b446-333fa9a70825",
   "metadata": {},
   "outputs": [],
   "source": []
  },
  {
   "cell_type": "code",
   "execution_count": null,
   "id": "467e3ecb-7d84-4d3c-8960-59d5a83a71a0",
   "metadata": {},
   "outputs": [],
   "source": []
  },
  {
   "cell_type": "code",
   "execution_count": null,
   "id": "66735cd7-94bb-47f2-8556-79a6e02d4fa8",
   "metadata": {},
   "outputs": [],
   "source": []
  },
  {
   "cell_type": "code",
   "execution_count": null,
   "id": "8b603838-d120-4bc1-a953-bcdb9eb049a8",
   "metadata": {},
   "outputs": [],
   "source": []
  },
  {
   "cell_type": "code",
   "execution_count": null,
   "id": "61cb2c9e-b18e-43a6-88f7-0035c172858e",
   "metadata": {},
   "outputs": [],
   "source": []
  },
  {
   "cell_type": "code",
   "execution_count": null,
   "id": "1938585a-cdf4-4e44-b061-5313e6fb7629",
   "metadata": {},
   "outputs": [],
   "source": []
  },
  {
   "cell_type": "code",
   "execution_count": null,
   "id": "2d79eec1-960f-45a4-99cd-96269fd4d131",
   "metadata": {},
   "outputs": [],
   "source": []
  },
  {
   "cell_type": "code",
   "execution_count": null,
   "id": "4743599c-b9d1-4057-82db-b98b7e46db3c",
   "metadata": {},
   "outputs": [],
   "source": []
  },
  {
   "cell_type": "code",
   "execution_count": null,
   "id": "8ba092dc-16e1-4c6e-ac10-4b844f6a8fb4",
   "metadata": {},
   "outputs": [],
   "source": []
  },
  {
   "cell_type": "code",
   "execution_count": null,
   "id": "df48f3e7-4cfc-4f9f-b6c8-cedf2e270036",
   "metadata": {},
   "outputs": [],
   "source": []
  },
  {
   "cell_type": "code",
   "execution_count": null,
   "id": "165e0d91-9734-4775-a994-f84d1df130c3",
   "metadata": {},
   "outputs": [],
   "source": []
  },
  {
   "cell_type": "code",
   "execution_count": null,
   "id": "c5137abc-f15a-4d0d-878f-449bfbc8458a",
   "metadata": {},
   "outputs": [],
   "source": []
  }
 ],
 "metadata": {
  "kernelspec": {
   "display_name": "Python 3 (ipykernel)",
   "language": "python",
   "name": "python3"
  },
  "language_info": {
   "codemirror_mode": {
    "name": "ipython",
    "version": 3
   },
   "file_extension": ".py",
   "mimetype": "text/x-python",
   "name": "python",
   "nbconvert_exporter": "python",
   "pygments_lexer": "ipython3",
   "version": "3.10.11"
  }
 },
 "nbformat": 4,
 "nbformat_minor": 5
}
